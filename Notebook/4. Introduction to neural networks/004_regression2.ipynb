{
  "nbformat": 4,
  "nbformat_minor": 0,
  "metadata": {
    "kernelspec": {
      "display_name": "Python 3",
      "language": "python",
      "name": "python3"
    },
    "language_info": {
      "codemirror_mode": {
        "name": "ipython",
        "version": 3
      },
      "file_extension": ".py",
      "mimetype": "text/x-python",
      "name": "python",
      "nbconvert_exporter": "python",
      "pygments_lexer": "ipython3",
      "version": "3.6.4"
    },
    "colab": {
      "name": "004-regression2.ipynb",
      "provenance": []
    }
  },
  "cells": [
    {
      "cell_type": "markdown",
      "metadata": {
        "id": "NlPSsnzkqxom",
        "colab_type": "text"
      },
      "source": [
        "# Реализация линейной операции в TensorFlow"
      ]
    },
    {
      "cell_type": "code",
      "metadata": {
        "id": "D3zUbjvmqxoo",
        "colab_type": "code",
        "colab": {
          "base_uri": "https://localhost:8080/",
          "height": 63
        },
        "outputId": "82bef28f-1393-42ee-d44f-78bb1b93ebd5"
      },
      "source": [
        "import numpy as np\n",
        "import tensorflow as tf"
      ],
      "execution_count": 1,
      "outputs": [
        {
          "output_type": "display_data",
          "data": {
            "text/html": [
              "<p style=\"color: red;\">\n",
              "The default version of TensorFlow in Colab will soon switch to TensorFlow 2.x.<br>\n",
              "We recommend you <a href=\"https://www.tensorflow.org/guide/migrate\" target=\"_blank\">upgrade</a> now \n",
              "or ensure your notebook will continue to use TensorFlow 1.x via the <code>%tensorflow_version 1.x</code> magic:\n",
              "<a href=\"https://colab.research.google.com/notebooks/tensorflow_version.ipynb\" target=\"_blank\">more info</a>.</p>\n"
            ],
            "text/plain": [
              "<IPython.core.display.HTML object>"
            ]
          },
          "metadata": {
            "tags": []
          }
        }
      ]
    },
    {
      "cell_type": "code",
      "metadata": {
        "id": "a5atUfczqxor",
        "colab_type": "code",
        "colab": {}
      },
      "source": [
        "%matplotlib inline\n",
        "from matplotlib import pyplot as plt"
      ],
      "execution_count": 0,
      "outputs": []
    },
    {
      "cell_type": "markdown",
      "metadata": {
        "id": "k38klDNaqxot",
        "colab_type": "text"
      },
      "source": [
        "## Генерируем данные для задачи регрессии"
      ]
    },
    {
      "cell_type": "code",
      "metadata": {
        "id": "EbiQYjA-qxou",
        "colab_type": "code",
        "colab": {}
      },
      "source": [
        "NUM_FEATURES = 1\n",
        "NUM_SAMPLES = 995"
      ],
      "execution_count": 0,
      "outputs": []
    },
    {
      "cell_type": "code",
      "metadata": {
        "id": "B5qcvS3Vqxow",
        "colab_type": "code",
        "colab": {
          "base_uri": "https://localhost:8080/",
          "height": 279
        },
        "outputId": "1bf9d0c9-a6d4-4a64-9fd8-ccd62f25676f"
      },
      "source": [
        "from sklearn.datasets import make_regression\n",
        "\n",
        "X, y = make_regression(n_samples = NUM_SAMPLES,\n",
        "                       n_features = NUM_FEATURES,\n",
        "                       n_informative = NUM_FEATURES,\n",
        "                       noise = 10,\n",
        "                       random_state = 12345)\n",
        "\n",
        "y = y.reshape(-1, 1)\n",
        "\n",
        "order = np.argsort(X[:, 0])  # данные упорядочены по X\n",
        "\n",
        "plt.xlabel('x')\n",
        "plt.ylabel('y')\n",
        "plt.plot(X[order, 0], y[order], 'o');"
      ],
      "execution_count": 4,
      "outputs": [
        {
          "output_type": "display_data",
          "data": {
            "image/png": "[encoded data removed]",
            "text/plain": [
              "<Figure size 432x288 with 1 Axes>"
            ]
          },
          "metadata": {
            "tags": []
          }
        }
      ]
    },
    {
      "cell_type": "markdown",
      "metadata": {
        "id": "CtOMv_Miqxoy",
        "colab_type": "text"
      },
      "source": [
        "## Вспомогательная функция для создания операций"
      ]
    },
    {
      "cell_type": "code",
      "metadata": {
        "id": "_DMMK79Sqxoz",
        "colab_type": "code",
        "colab": {}
      },
      "source": [
        "import string\n",
        "\n",
        "def py_func_with_grad(func, inp, Tout, grad, name = None, stateful = False, graph = None):\n",
        "    \n",
        "\n",
        "    name_prefix = ''.join(np.random.choice(list(string.ascii_letters), size = 10))\n",
        "    \n",
        "    name = '%s_%s' % (name_prefix, name or '')\n",
        "    grad_func_name = '%s_grad' % name\n",
        "\n",
        "    tf.RegisterGradient(grad_func_name)(grad)\n",
        "\n",
        "    g = graph or tf.get_default_graph()\n",
        "    with g.gradient_override_map({'PyFunc': grad_func_name, \n",
        "                                  'PyFuncStateless': grad_func_name}):\n",
        "        with tf.name_scope(name, 'PyFuncOp', inp):\n",
        "            return tf.py_func(func, inp, Tout, stateful = stateful, name = name)"
      ],
      "execution_count": 0,
      "outputs": []
    },
    {
      "cell_type": "markdown",
      "metadata": {
        "id": "W5X7y5DIqxo0",
        "colab_type": "text"
      },
      "source": [
        "## Реализация линейной опреаций"
      ]
    },
    {
      "cell_type": "code",
      "metadata": {
        "id": "t4DIUdsUqxo1",
        "colab_type": "code",
        "colab": {}
      },
      "source": [
        "def linear_op_forward(X, W):\n",
        "    ''' Реализация линейной операции '''\n",
        "    return np.dot(X, W.T)  # аргументы являются numpy-массивами\n",
        "\n",
        "def linear_op_backward(op, grads):\n",
        "    ''' Реализация вычисления градиента линейной операции '''\n",
        "    X = op.inputs[0]  # тензор входных данных\n",
        "    W = op.inputs[1]  # тензор параметров модели\n",
        "    dX = tf.multiply(grads, W)\n",
        "    dW = tf.reduce_sum(tf.multiply(X, grads),\n",
        "                       axis = 0,\n",
        "                       keep_dims = True)\n",
        "    return dX, dW"
      ],
      "execution_count": 0,
      "outputs": []
    },
    {
      "cell_type": "markdown",
      "metadata": {
        "id": "8k_Cgj9Cqxo3",
        "colab_type": "text"
      },
      "source": [
        "## Создание графа вычислений и обучение модели"
      ]
    },
    {
      "cell_type": "code",
      "metadata": {
        "scrolled": false,
        "id": "xJDUkqZRqxo3",
        "colab_type": "code",
        "colab": {
          "base_uri": "https://localhost:8080/",
          "height": 479
        },
        "outputId": "6f38a2e1-ddc1-4cea-9048-60bd1e21326a"
      },
      "source": [
        "BATCH_SIZE = NUM_SAMPLES // 10\n",
        "\n",
        "weights = None  # в этой переменной мы сохраним результат обучения модели\n",
        "learning_curve = []  # значения ошибки на каждой итерации обучения\n",
        "\n",
        "with tf.Session(graph = tf.Graph()) as sess:  # инициализируем сессию вычислений\n",
        "    \n",
        "    # создаем placeholdr'ы, через них мы будем\n",
        "    # передавать внешние данные в граф вычислений\n",
        "    plh_X = tf.placeholder(dtype = tf.float32, shape = [None, NUM_FEATURES])\n",
        "    plh_y = tf.placeholder(dtype = tf.float32, shape = [None, 1])\n",
        "\n",
        "    # создаем переменную для хранения весов модели\n",
        "    # эти веса будут изменяться в процессе обучения\n",
        "    var_W = tf.Variable(tf.random_uniform(shape = [1, NUM_FEATURES],\n",
        "                                          dtype = tf.float32,\n",
        "                                          seed = 12345))\n",
        "    \n",
        "    # создаем переменную для результата предсказания модели\n",
        "    var_Pred = py_func_with_grad(linear_op_forward,         # функция предсказания модели \n",
        "                                 [plh_X, var_W],            # аргументы функции\n",
        "                                 [tf.float32],              # тип выходных значений\n",
        "                                 name = 'linear_op',        # имя операции \n",
        "                                 grad = linear_op_backward, # функция для вычисления градиента\n",
        "                                 graph = sess.graph)        # объект графа вчислений\n",
        "    \n",
        "    # определяем квадратичную функцию потерь\n",
        "    # результат предсказания сравнивается с правильным ответом для вычисления ошибки\n",
        "    cost = tf.reduce_mean(tf.square(plh_y - var_Pred))\n",
        "    \n",
        "    # инициализируем оптимизатор и указываем скорость обучения\n",
        "    optimizer = tf.train.GradientDescentOptimizer(\n",
        "        learning_rate = 0.3).minimize(cost)\n",
        "\n",
        "    # инициализируем placeholder'ы и переменные\n",
        "    sess.run(tf.global_variables_initializer())\n",
        "    \n",
        "    indices = np.arange(len(X))  # массив индексов объектов\n",
        "    \n",
        "    # выполняем итерации по 10-ти эпохам\n",
        "    for epoch in range(10):\n",
        "        \n",
        "        # вначале каждой эпохи перемешиваем индексы\n",
        "        np.random.shuffle(indices)\n",
        "        \n",
        "        # внутри каждой эпохи данные разбиваются на батчи\n",
        "        for batch in range(len(X) // BATCH_SIZE):\n",
        "            \n",
        "            # выбираем индексы очередного батча\n",
        "            batch_indices = indices[batch * BATCH_SIZE:(batch + 1) * BATCH_SIZE]\n",
        "\n",
        "            # выполняем шаг обучения: вычисляем ошибку и обновляем веса\n",
        "            loss, _ = sess.run([cost, optimizer],  # указываем, какие операции необходимо выполнить\n",
        "                               feed_dict = {plh_X: X[batch_indices],  # передаем входные данные для вычисления\n",
        "                                            plh_y: y[batch_indices]})\n",
        "        \n",
        "            # сохраняем занчения ошибки для построения кривой обучения\n",
        "            learning_curve.append(loss)\n",
        "            \n",
        "            # выводим текущее значение ошибки для каждого 10го шага\n",
        "            steps = len(learning_curve) - 1\n",
        "            if steps % 10 == 0:\n",
        "                print('[%03d] loss=%.3f weights=%s' % (steps, loss, var_W.eval()))\n",
        "    \n",
        "    # сохраняем обученные веса\n",
        "    weights = var_W.eval()"
      ],
      "execution_count": 7,
      "outputs": [
        {
          "output_type": "stream",
          "text": [
            "WARNING:tensorflow:From <ipython-input-5-ba4cb70b7d33>:17: py_func (from tensorflow.python.ops.script_ops) is deprecated and will be removed in a future version.\n",
            "Instructions for updating:\n",
            "tf.py_func is deprecated in TF V2. Instead, there are two\n",
            "    options available in V2.\n",
            "    - tf.py_function takes a python function which manipulates tf eager\n",
            "    tensors instead of numpy arrays. It's easy to convert a tf eager tensor to\n",
            "    an ndarray (just call tensor.numpy()) but having access to eager tensors\n",
            "    means `tf.py_function`s can use accelerators such as GPUs as well as\n",
            "    being differentiable using a gradient tape.\n",
            "    - tf.numpy_function maintains the semantics of the deprecated tf.py_func\n",
            "    (it is not differentiable, and manipulates numpy arrays). It drops the\n",
            "    stateful argument making all functions stateful.\n",
            "    \n",
            "WARNING:tensorflow:From <ipython-input-6-b8a7f1f58896>:12: calling reduce_sum_v1 (from tensorflow.python.ops.math_ops) with keep_dims is deprecated and will be removed in a future version.\n",
            "Instructions for updating:\n",
            "keep_dims is deprecated, use keepdims instead\n",
            "[000] loss=266.967 weights=[[6.7595577]]\n",
            "[010] loss=107.695 weights=[[14.169069]]\n",
            "[020] loss=108.576 weights=[[16.04094]]\n",
            "[030] loss=84.721 weights=[[14.015669]]\n",
            "[040] loss=104.045 weights=[[15.201883]]\n",
            "[050] loss=96.065 weights=[[14.42985]]\n",
            "[060] loss=98.471 weights=[[14.346092]]\n",
            "[070] loss=89.902 weights=[[15.665317]]\n",
            "[080] loss=91.437 weights=[[14.003516]]\n",
            "[090] loss=113.435 weights=[[13.914649]]\n"
          ],
          "name": "stdout"
        }
      ]
    },
    {
      "cell_type": "markdown",
      "metadata": {
        "id": "RU7Hdeexqxo5",
        "colab_type": "text"
      },
      "source": [
        "## Визуализируем кривую обучения"
      ]
    },
    {
      "cell_type": "code",
      "metadata": {
        "id": "Qb2FNvqOqxo6",
        "colab_type": "code",
        "colab": {
          "base_uri": "https://localhost:8080/",
          "height": 295
        },
        "outputId": "d6a240d8-633c-4166-8ee8-9fa9840cede7"
      },
      "source": [
        "plt.xlabel('step')\n",
        "plt.ylabel('loss')\n",
        "plt.title('Learning curve')\n",
        "plt.plot(learning_curve);"
      ],
      "execution_count": 8,
      "outputs": [
        {
          "output_type": "display_data",
          "data": {
            "image/png": "[encoded data removed]",
            "text/plain": [
              "<Figure size 432x288 with 1 Axes>"
            ]
          },
          "metadata": {
            "tags": []
          }
        }
      ]
    },
    {
      "cell_type": "markdown",
      "metadata": {
        "id": "g4t3u28Lqxo7",
        "colab_type": "text"
      },
      "source": [
        "## Визуализируем предсказания модели"
      ]
    },
    {
      "cell_type": "code",
      "metadata": {
        "id": "CXc2OA0Eqxo8",
        "colab_type": "code",
        "colab": {
          "base_uri": "https://localhost:8080/",
          "height": 279
        },
        "outputId": "26deab47-2c7a-42b0-9540-5ae5fa2abcc0"
      },
      "source": [
        "y_pred = np.dot(X, weights.T)  # предсказание модели\n",
        "\n",
        "plt.xlabel('x')\n",
        "plt.ylabel('y')\n",
        "plt.plot(X[order, 0], y[order], 'o',\n",
        "         X[order, 0], y_pred[order], '-');"
      ],
      "execution_count": 9,
      "outputs": [
        {
          "output_type": "display_data",
          "data": {
            "image/png": "[encoded data removed]",
            "text/plain": [
              "<Figure size 432x288 with 1 Axes>"
            ]
          },
          "metadata": {
            "tags": []
          }
        }
      ]
    },
    {
      "cell_type": "code",
      "metadata": {
        "id": "_JBmlw_eqxo-",
        "colab_type": "code",
        "colab": {}
      },
      "source": [
        ""
      ],
      "execution_count": 0,
      "outputs": []
    }
  ]
}