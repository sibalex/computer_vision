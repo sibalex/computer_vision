{
 "cells": [
  {
   "cell_type": "markdown",
   "metadata": {},
   "source": [
    "[Источник](https://github.com/georgeliu1998/tf_and_colab/blob/master/tf_and_colab.ipynb)"
   ]
  },
  {
   "cell_type": "markdown",
   "metadata": {
    "colab_type": "text",
    "id": "view-in-github"
   },
   "source": [
    "<a href=\"https://colab.research.google.com/github/georgeliu1998/tf_and_colab/blob/master/tf_and_colab.ipynb\" target=\"_parent\"><img src=\"https://colab.research.google.com/assets/colab-badge.svg\" alt=\"Open In Colab\"/></a>"
   ]
  },
  {
   "cell_type": "markdown",
   "metadata": {
    "colab_type": "text",
    "id": "bEf39ec2oxnk"
   },
   "source": [
    "## Set up the Environment"
   ]
  },
  {
   "cell_type": "code",
   "execution_count": 0,
   "metadata": {
    "colab": {},
    "colab_type": "code",
    "id": "8ca5cfMGBv5S"
   },
   "outputs": [],
   "source": [
    "import numpy as np\n",
    "import tensorflow as tf\n",
    "import matplotlib.pyplot as plt"
   ]
  },
  {
   "cell_type": "code",
   "execution_count": 2,
   "metadata": {
    "colab": {
     "base_uri": "https://localhost:8080/",
     "height": 187
    },
    "colab_type": "code",
    "id": "xZ5mZWagHNgF",
    "outputId": "b7b73435-5e5c-4853-be15-2c3329f2af92"
   },
   "outputs": [
    {
     "name": "stdout",
     "output_type": "stream",
     "text": [
      "Name: tensorflow\n",
      "Version: 1.12.0\n",
      "Summary: TensorFlow is an open source machine learning framework for everyone.\n",
      "Home-page: https://www.tensorflow.org/\n",
      "Author: Google Inc.\n",
      "Author-email: opensource@google.com\n",
      "License: Apache 2.0\n",
      "Location: /usr/local/lib/python3.6/dist-packages\n",
      "Requires: gast, astor, termcolor, grpcio, keras-applications, tensorboard, wheel, protobuf, numpy, absl-py, six, keras-preprocessing\n",
      "Required-by: stable-baselines, magenta, fancyimpute\n"
     ]
    }
   ],
   "source": [
    "# Check TensorFlow versions\n",
    "!pip show tensorflow"
   ]
  },
  {
   "cell_type": "markdown",
   "metadata": {
    "colab_type": "text",
    "id": "l5KlNi7Yo47w"
   },
   "source": [
    "## Colab Essentials"
   ]
  },
  {
   "cell_type": "markdown",
   "metadata": {
    "colab_type": "text",
    "id": "mLa4liIS11kb"
   },
   "source": [
    "#### Opening up a New Noetbook\n",
    "\n",
    "For the very first time using Colab, you can visit [here](https://colab.research.google.com/). Once you have a notebook created, it'll be saved in your Google Drive. You can access it by visiting your Google Drive page, then either double click on the file name or right click and Open with Colab. \n"
   ]
  },
  {
   "cell_type": "markdown",
   "metadata": {
    "colab_type": "text",
    "id": "Cq4M4kphfWsh"
   },
   "source": [
    "#### Shortcuts\n",
    "\n",
    "- Run cell: \"Shift + Eneter\"\n",
    "- Delete cell: \"Ctrl + M, then D\"\n",
    "- Undo: \"Ctrl + Shift + Z\"\n",
    "- Convert to code cell: \"Ctrl + M, then Y\"\n",
    "- Convert to markdown cell: \"Ctrl + M, then M\"\n",
    "- Save notebook: \"Ctrl + S\"\n",
    "- Open up the shortcut screen: \"Ctrl + M, then H\"\n",
    "\n"
   ]
  },
  {
   "cell_type": "code",
   "execution_count": 3,
   "metadata": {
    "colab": {
     "base_uri": "https://localhost:8080/",
     "height": 34
    },
    "colab_type": "code",
    "id": "mAqaMlh0fpcd",
    "outputId": "9d754336-f4fc-4ca7-a7a4-93bb673ed03a"
   },
   "outputs": [
    {
     "name": "stdout",
     "output_type": "stream",
     "text": [
      "Colab -> is cool\n"
     ]
    }
   ],
   "source": [
    "# A random cell to be deleted\n",
    "print(\"Colab -> is cool\")"
   ]
  },
  {
   "cell_type": "markdown",
   "metadata": {
    "colab_type": "text",
    "id": "vRBQ2gp2tBPJ"
   },
   "source": [
    "#### Connecting with GitHub\n",
    "\n",
    "\"File\" --> \"Save a copy in GitHub\""
   ]
  },
  {
   "cell_type": "markdown",
   "metadata": {
    "colab_type": "text",
    "id": "R01sFrg5DupU"
   },
   "source": [
    "#### Enable GPU support\n",
    "\n",
    "\"Runtime - Change runtime type - Hardware accelerator\""
   ]
  },
  {
   "cell_type": "markdown",
   "metadata": {
    "colab_type": "text",
    "id": "sXReAo4YpL86"
   },
   "source": [
    "## Several Quick Examples"
   ]
  },
  {
   "cell_type": "markdown",
   "metadata": {
    "colab_type": "text",
    "id": "anlrl0tjqjRN"
   },
   "source": [
    "#### Constant and Variable"
   ]
  },
  {
   "cell_type": "code",
   "execution_count": 0,
   "metadata": {
    "colab": {},
    "colab_type": "code",
    "id": "DbcIXRyv8cze"
   },
   "outputs": [],
   "source": [
    "# Define two TensorFlow constants\n",
    "a = tf.constant(1, name='a_var')          \n",
    "b = tf.constant(2, name='b_bar')              "
   ]
  },
  {
   "cell_type": "code",
   "execution_count": 5,
   "metadata": {
    "colab": {
     "base_uri": "https://localhost:8080/",
     "height": 34
    },
    "colab_type": "code",
    "id": "VVn8yWcfaRdS",
    "outputId": "fa07235b-334e-4592-b338-2ebbea820b98"
   },
   "outputs": [
    {
     "data": {
      "text/plain": [
       "<tf.Tensor 'a_var:0' shape=() dtype=int32>"
      ]
     },
     "execution_count": 5,
     "metadata": {
      "tags": []
     },
     "output_type": "execute_result"
    }
   ],
   "source": [
    "# See what the constant a is\n",
    "a"
   ]
  },
  {
   "cell_type": "code",
   "execution_count": 0,
   "metadata": {
    "colab": {},
    "colab_type": "code",
    "id": "oHRDFr3AlR7c"
   },
   "outputs": [],
   "source": [
    "# Define a variable c\n",
    "c = tf.Variable(a + b)  "
   ]
  },
  {
   "cell_type": "code",
   "execution_count": 7,
   "metadata": {
    "colab": {
     "base_uri": "https://localhost:8080/",
     "height": 34
    },
    "colab_type": "code",
    "id": "D0Y86dwwaTyK",
    "outputId": "c0fed1dc-8f17-4e70-ec99-147719101f9f"
   },
   "outputs": [
    {
     "data": {
      "text/plain": [
       "<tf.Variable 'Variable:0' shape=() dtype=int32_ref>"
      ]
     },
     "execution_count": 7,
     "metadata": {
      "tags": []
     },
     "output_type": "execute_result"
    }
   ],
   "source": [
    "# Check out c\n",
    "c"
   ]
  },
  {
   "cell_type": "markdown",
   "metadata": {
    "colab_type": "text",
    "id": "NB4C5ijDqx4M"
   },
   "source": [
    "#### Session"
   ]
  },
  {
   "cell_type": "code",
   "execution_count": 8,
   "metadata": {
    "colab": {
     "base_uri": "https://localhost:8080/",
     "height": 34
    },
    "colab_type": "code",
    "id": "yCSC-2dZlT6g",
    "outputId": "bcd35e15-ed26-428a-8f22-7389bd1718ac"
   },
   "outputs": [
    {
     "name": "stdout",
     "output_type": "stream",
     "text": [
      "3\n"
     ]
    }
   ],
   "source": [
    "# Initialize all variables and run the computational graph\n",
    "init = tf.global_variables_initializer()         \n",
    "                                                 \n",
    "with tf.Session() as session:                    \n",
    "    session.run(init)                            \n",
    "    print(session.run(c))  "
   ]
  },
  {
   "cell_type": "markdown",
   "metadata": {
    "colab_type": "text",
    "id": "GakUyY5vlzsY"
   },
   "source": [
    "#### Placeholder\n",
    "\n",
    "Now let's show the use of placeholder. We'll first use a parabola equation as below:\n",
    "\n",
    "$y = a x^2+bx+c$\n",
    "\n",
    "Here, imagine x, instead of just one number, it's a list of numbers (vector). To calculate the corresponding y value for each x value, we can use placeholder."
   ]
  },
  {
   "cell_type": "code",
   "execution_count": 0,
   "metadata": {
    "colab": {},
    "colab_type": "code",
    "id": "rYzKUwolbj7U"
   },
   "outputs": [],
   "source": [
    "# Initialize the coefficients as constants\n",
    "a = tf.constant(1, dtype=tf.float32)\n",
    "b = tf.constant(-20, dtype=tf.float32)\n",
    "c = tf.constant(-100, dtype=tf.float32)"
   ]
  },
  {
   "cell_type": "code",
   "execution_count": 0,
   "metadata": {
    "colab": {},
    "colab_type": "code",
    "id": "w_Rx6po9bjzU"
   },
   "outputs": [],
   "source": [
    "# Initialize x as a placeholder since we need to feed the data for it\n",
    "x = tf.placeholder(dtype=tf.float32)"
   ]
  },
  {
   "cell_type": "code",
   "execution_count": 0,
   "metadata": {
    "colab": {},
    "colab_type": "code",
    "id": "JPBcHbY0bjnV"
   },
   "outputs": [],
   "source": [
    "# Set up the computational graph\n",
    "y = a * (x ** 2) + b * x + c"
   ]
  },
  {
   "cell_type": "code",
   "execution_count": 0,
   "metadata": {
    "colab": {},
    "colab_type": "code",
    "id": "Dl_kL56aQ2ZK"
   },
   "outputs": [],
   "source": [
    "# Provide the feed in data for x\n",
    "x_feed = np.linspace(-10, 30, num=10)"
   ]
  },
  {
   "cell_type": "code",
   "execution_count": 0,
   "metadata": {
    "colab": {},
    "colab_type": "code",
    "id": "_usMBj99Cg0x"
   },
   "outputs": [],
   "source": [
    "# Start and run a session\n",
    "with tf.Session() as sess:\n",
    "    results = sess.run(y, feed_dict={x: x_feed})"
   ]
  },
  {
   "cell_type": "code",
   "execution_count": 14,
   "metadata": {
    "colab": {
     "base_uri": "https://localhost:8080/",
     "height": 51
    },
    "colab_type": "code",
    "id": "7FHFb7KkTikf",
    "outputId": "b191a1c0-63f1-474a-b991-9a74040a9be6"
   },
   "outputs": [
    {
     "name": "stdout",
     "output_type": "stream",
     "text": [
      "[ 200.         41.975304  -76.54321  -155.55554  -195.06174  -195.06174\n",
      " -155.55554   -76.54324    41.97534   200.      ]\n"
     ]
    }
   ],
   "source": [
    "print(results)"
   ]
  },
  {
   "cell_type": "markdown",
   "metadata": {
    "colab_type": "text",
    "id": "cGjt7YwTpTYZ"
   },
   "source": [
    "## A Mini Project"
   ]
  },
  {
   "cell_type": "code",
   "execution_count": 15,
   "metadata": {
    "colab": {
     "base_uri": "https://localhost:8080/",
     "height": 170
    },
    "colab_type": "code",
    "id": "4Grz7gwKtpI4",
    "outputId": "ba351836-1952-4c35-ca73-d3aa308d3cea"
   },
   "outputs": [
    {
     "name": "stdout",
     "output_type": "stream",
     "text": [
      "The weight is:  [array([[-0.9984784]], dtype=float32), array([0.9955262], dtype=float32)]\n",
      "\n",
      "The bias is:  [0.9955262]\n",
      "\n",
      "The predictions are: \n",
      " [[-2.9522181e-03]\n",
      " [-1.0014306e+00]\n",
      " [-1.9999090e+00]\n",
      " [-2.9983873e+00]]\n"
     ]
    }
   ],
   "source": [
    "# A simple example taken from TensorFlow Guide: https://www.tensorflow.org/guide/low_level_intro\n",
    "\n",
    "# Define the placeholders\n",
    "x = tf.placeholder(dtype=tf.float32, shape=(None, 1))\n",
    "y_true = tf.placeholder(dtype=tf.float32, shape=(None, 1))\n",
    "\n",
    "# Create the model\n",
    "linear_model = tf.layers.Dense(units=1, \n",
    "                               bias_initializer=tf.constant_initializer(1))\n",
    "y_pred = linear_model(x)\n",
    "\n",
    "# Define the loss function\n",
    "loss = tf.losses.mean_squared_error(labels=y_true, \n",
    "                                    predictions=y_pred)\n",
    "\n",
    "# Define the optimizer\n",
    "optimizer = tf.train.GradientDescentOptimizer(0.01)\n",
    "train = optimizer.minimize(loss)\n",
    "\n",
    "#Initialize all variables (weights and biases in the defined layer above)\n",
    "init = tf.global_variables_initializer()\n",
    "\n",
    "# Provide the training examples\n",
    "x_values = np.array([[1], [2], [3], [4]])\n",
    "y_values = np.array([[0], [-1], [-2], [-3]])\n",
    "\n",
    "with tf.Session() as sess:\n",
    "    sess.run(init)\n",
    "  # Do 1000 rounds of training\n",
    "    for i in range(1000):\n",
    "        _, loss_value = sess.run((train, loss), feed_dict={x: x_values, y_true: y_values})\n",
    "        print(loss_value, end='\\r')\n",
    "\n",
    "    weights = sess.run(linear_model.weights)\n",
    "    bias = sess.run(linear_model.bias)\n",
    "    preds = sess.run(y_pred, \n",
    "                   feed_dict={x: x_values})\n",
    "  \n",
    "    print(\"The weight is: \", weights)\n",
    "    print('\\r')\n",
    "    print(\"The bias is: \", bias)\n",
    "    print('\\r')\n",
    "    print(\"The predictions are: \\n\", preds)"
   ]
  },
  {
   "cell_type": "code",
   "execution_count": 0,
   "metadata": {
    "colab": {},
    "colab_type": "code",
    "id": "7ilYm8Wu5dv9"
   },
   "outputs": [],
   "source": [
    "# Get the weight\n",
    "w = weights[0].tolist()[0][0]"
   ]
  },
  {
   "cell_type": "code",
   "execution_count": 0,
   "metadata": {
    "colab": {},
    "colab_type": "code",
    "id": "aD0BmeBQ59rE"
   },
   "outputs": [],
   "source": [
    "# Get the bias\n",
    "b = weights[1].tolist()[0]"
   ]
  },
  {
   "cell_type": "code",
   "execution_count": 18,
   "metadata": {
    "colab": {
     "base_uri": "https://localhost:8080/",
     "height": 85
    },
    "colab_type": "code",
    "id": "vD25uBEw6G4q",
    "outputId": "ffe112b8-9b6e-494a-eb46-ff4e86d4adf0"
   },
   "outputs": [
    {
     "data": {
      "text/plain": [
       "array([[-2.95221806e-03],\n",
       "       [-1.00143063e+00],\n",
       "       [-1.99990904e+00],\n",
       "       [-2.99838746e+00]])"
      ]
     },
     "execution_count": 18,
     "metadata": {
      "tags": []
     },
     "output_type": "execute_result"
    }
   ],
   "source": [
    "# Make predictions based on the weight and bias\n",
    "x_values * w + b"
   ]
  }
 ],
 "metadata": {
  "colab": {
   "collapsed_sections": [],
   "include_colab_link": true,
   "name": "tf_and_colab.ipynb",
   "provenance": [],
   "version": "0.3.2"
  },
  "kernelspec": {
   "display_name": "Python 3",
   "language": "python",
   "name": "python3"
  },
  "language_info": {
   "codemirror_mode": {
    "name": "ipython",
    "version": 3
   },
   "file_extension": ".py",
   "mimetype": "text/x-python",
   "name": "python",
   "nbconvert_exporter": "python",
   "pygments_lexer": "ipython3",
   "version": "3.7.3"
  }
 },
 "nbformat": 4,
 "nbformat_minor": 1
}
