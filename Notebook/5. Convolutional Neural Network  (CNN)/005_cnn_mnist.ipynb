{
  "nbformat": 4,
  "nbformat_minor": 0,
  "metadata": {
    "kernelspec": {
      "display_name": "Python 3",
      "language": "python",
      "name": "python3"
    },
    "language_info": {
      "codemirror_mode": {
        "name": "ipython",
        "version": 3
      },
      "file_extension": ".py",
      "mimetype": "text/x-python",
      "name": "python",
      "nbconvert_exporter": "python",
      "pygments_lexer": "ipython3",
      "version": "3.7.3"
    },
    "colab": {
      "name": "005-cnn-mnist.ipynb",
      "provenance": []
    }
  },
  "cells": [
    {
      "cell_type": "markdown",
      "metadata": {
        "id": "BPPIR7thwB1V",
        "colab_type": "text"
      },
      "source": [
        "# Классификация MNIST сверточной сетью"
      ]
    },
    {
      "cell_type": "code",
      "metadata": {
        "id": "FFxqDrgVwB1Z",
        "colab_type": "code",
        "colab": {
          "base_uri": "https://localhost:8080/",
          "height": 63
        },
        "outputId": "5d616c28-c271-4688-bdb8-5a0d0f528f52"
      },
      "source": [
        "%matplotlib inline\n",
        "import matplotlib.pyplot as plt\n",
        "import cv2\n",
        "import numpy as np\n",
        "from tensorflow import keras"
      ],
      "execution_count": 1,
      "outputs": [
        {
          "output_type": "display_data",
          "data": {
            "text/html": [
              "<p style=\"color: red;\">\n",
              "The default version of TensorFlow in Colab will soon switch to TensorFlow 2.x.<br>\n",
              "We recommend you <a href=\"https://www.tensorflow.org/guide/migrate\" target=\"_blank\">upgrade</a> now \n",
              "or ensure your notebook will continue to use TensorFlow 1.x via the <code>%tensorflow_version 1.x</code> magic:\n",
              "<a href=\"https://colab.research.google.com/notebooks/tensorflow_version.ipynb\" target=\"_blank\">more info</a>.</p>\n"
            ],
            "text/plain": [
              "<IPython.core.display.HTML object>"
            ]
          },
          "metadata": {
            "tags": []
          }
        }
      ]
    },
    {
      "cell_type": "code",
      "metadata": {
        "id": "kB95Th1jwB1b",
        "colab_type": "code",
        "colab": {}
      },
      "source": [
        "train = np.loadtxt('train.csv', delimiter=',', skiprows=1)\n",
        "test = np.loadtxt('test.csv', delimiter=',', skiprows=1)"
      ],
      "execution_count": 0,
      "outputs": []
    },
    {
      "cell_type": "code",
      "metadata": {
        "id": "gwei3lLAwB1e",
        "colab_type": "code",
        "colab": {}
      },
      "source": [
        "# сохраняем разметку в отдельную переменную\n",
        "train_label = train[:, 0]\n",
        "\n",
        "# приводим размерность к удобному для обаботки виду\n",
        "# добавляем размерность канала\n",
        "train_img = np.resize(train[:, 1:], (train.shape[0], 28, 28, 1))\n",
        "test_img = np.resize(test, (test.shape[0], 28, 28, 1))"
      ],
      "execution_count": 0,
      "outputs": []
    },
    {
      "cell_type": "markdown",
      "metadata": {
        "id": "QZccRhCdwB1g",
        "colab_type": "text"
      },
      "source": [
        "## Визуализируем исходные данные"
      ]
    },
    {
      "cell_type": "code",
      "metadata": {
        "id": "iJBe62lGwB1h",
        "colab_type": "code",
        "colab": {
          "base_uri": "https://localhost:8080/",
          "height": 276
        },
        "outputId": "b42d1a2d-0516-48e6-bf16-fbd551cae87c"
      },
      "source": [
        "fig = plt.figure(figsize=(20, 10))\n",
        "for i, img in enumerate(train_img[0:5, :], 1):\n",
        "    subplot = fig.add_subplot(1, 5, i)\n",
        "    plt.imshow(img[:,:,0], cmap='gray');\n",
        "    subplot.set_title('%s' % train_label[i - 1]);"
      ],
      "execution_count": 4,
      "outputs": [
        {
          "output_type": "display_data",
          "data": {
            "image/png": "[encoded data removed]",
            "text/plain": [
              "<Figure size 1440x720 with 5 Axes>"
            ]
          },
          "metadata": {
            "tags": []
          }
        }
      ]
    },
    {
      "cell_type": "markdown",
      "metadata": {
        "id": "adwy3shuwB1k",
        "colab_type": "text"
      },
      "source": [
        "## Разбиваем выборку на обучение и валидацию"
      ]
    },
    {
      "cell_type": "code",
      "metadata": {
        "id": "hzVTFZGvwB1l",
        "colab_type": "code",
        "colab": {}
      },
      "source": [
        "from sklearn.model_selection import train_test_split\n",
        "y_train, y_val, x_train, x_val = train_test_split(\n",
        "    train_label, train_img, test_size=0.2, random_state=42)"
      ],
      "execution_count": 0,
      "outputs": []
    },
    {
      "cell_type": "markdown",
      "metadata": {
        "id": "cpHCfnLJwB1n",
        "colab_type": "text"
      },
      "source": [
        "## Собираем сверточную сеть для обучения"
      ]
    },
    {
      "cell_type": "code",
      "metadata": {
        "id": "gH61DNBTwB1o",
        "colab_type": "code",
        "colab": {
          "base_uri": "https://localhost:8080/",
          "height": 139
        },
        "outputId": "ffcf6985-19a3-4fb4-c0ae-426902f6219d"
      },
      "source": [
        "seed = 123457\n",
        "kernek_initializer = keras.initializers.glorot_normal(seed=seed)\n",
        "bias_initializer = keras.initializers.normal(stddev=1., seed=seed)\n",
        "\n",
        "model = keras.models.Sequential()\n",
        "\n",
        "model.add(keras.layers.Conv2D(6, \n",
        "                              kernel_size=(5, 5), \n",
        "                              padding='same', \n",
        "                              activation='relu', \n",
        "                              input_shape=x_train.shape[1:],\n",
        "                              bias_initializer=bias_initializer,\n",
        "                              kernel_initializer=kernek_initializer))\n",
        "\n",
        "model.add(keras.layers.MaxPool2D(pool_size=(2, 2), padding='valid'))\n",
        "\n",
        "model.add(keras.layers.Conv2D(16, \n",
        "                              kernel_size=(5, 5),\n",
        "                              padding='valid',\n",
        "                              activation='relu', \n",
        "                              bias_initializer=bias_initializer,\n",
        "                              kernel_initializer=kernek_initializer))\n",
        "\n",
        "model.add(keras.layers.MaxPool2D(pool_size=(2, 2), padding='valid'))\n",
        "\n",
        "model.add(keras.layers.Flatten())\n",
        "\n",
        "model.add(keras.layers.Dense(32, activation='relu',\n",
        "                             bias_initializer=bias_initializer,\n",
        "                             kernel_initializer=kernek_initializer))\n",
        "\n",
        "model.add(keras.layers.Dense(10, activation='softmax',\n",
        "                             bias_initializer=bias_initializer,\n",
        "                             kernel_initializer=kernek_initializer))\n",
        "\n",
        "model.compile(optimizer='adam',\n",
        "              loss='categorical_crossentropy',\n",
        "              metrics=['accuracy'])"
      ],
      "execution_count": 6,
      "outputs": [
        {
          "output_type": "stream",
          "text": [
            "WARNING:tensorflow:From /usr/local/lib/python3.6/dist-packages/tensorflow_core/python/keras/initializers.py:143: calling RandomNormal.__init__ (from tensorflow.python.ops.init_ops) with dtype is deprecated and will be removed in a future version.\n",
            "Instructions for updating:\n",
            "Call initializer instance with the dtype argument instead of passing it to the constructor\n",
            "WARNING:tensorflow:From /usr/local/lib/python3.6/dist-packages/tensorflow_core/python/ops/resource_variable_ops.py:1630: calling BaseResourceVariable.__init__ (from tensorflow.python.ops.resource_variable_ops) with constraint is deprecated and will be removed in a future version.\n",
            "Instructions for updating:\n",
            "If using Keras pass *_constraint arguments to layers.\n"
          ],
          "name": "stdout"
        }
      ]
    },
    {
      "cell_type": "markdown",
      "metadata": {
        "id": "FAiL8WXTwB1q",
        "colab_type": "text"
      },
      "source": [
        "## Выводим информацию о модели"
      ]
    },
    {
      "cell_type": "code",
      "metadata": {
        "id": "GfGVgq-0wB1r",
        "colab_type": "code",
        "colab": {
          "base_uri": "https://localhost:8080/",
          "height": 391
        },
        "outputId": "8b3a4398-55ab-4cde-9c99-1d04270f2b5e"
      },
      "source": [
        "model.summary()"
      ],
      "execution_count": 7,
      "outputs": [
        {
          "output_type": "stream",
          "text": [
            "Model: \"sequential\"\n",
            "_________________________________________________________________\n",
            "Layer (type)                 Output Shape              Param #   \n",
            "=================================================================\n",
            "conv2d (Conv2D)              (None, 28, 28, 6)         156       \n",
            "_________________________________________________________________\n",
            "max_pooling2d (MaxPooling2D) (None, 14, 14, 6)         0         \n",
            "_________________________________________________________________\n",
            "conv2d_1 (Conv2D)            (None, 10, 10, 16)        2416      \n",
            "_________________________________________________________________\n",
            "max_pooling2d_1 (MaxPooling2 (None, 5, 5, 16)          0         \n",
            "_________________________________________________________________\n",
            "flatten (Flatten)            (None, 400)               0         \n",
            "_________________________________________________________________\n",
            "dense (Dense)                (None, 32)                12832     \n",
            "_________________________________________________________________\n",
            "dense_1 (Dense)              (None, 10)                330       \n",
            "=================================================================\n",
            "Total params: 15,734\n",
            "Trainable params: 15,734\n",
            "Non-trainable params: 0\n",
            "_________________________________________________________________\n"
          ],
          "name": "stdout"
        }
      ]
    },
    {
      "cell_type": "markdown",
      "metadata": {
        "id": "iJ0cxpR8wB1s",
        "colab_type": "text"
      },
      "source": [
        "## One hot encoding разметки"
      ]
    },
    {
      "cell_type": "code",
      "metadata": {
        "id": "gM5CXZGHwB1t",
        "colab_type": "code",
        "colab": {}
      },
      "source": [
        "y_train_labels = keras.utils.to_categorical(y_train)"
      ],
      "execution_count": 0,
      "outputs": []
    },
    {
      "cell_type": "code",
      "metadata": {
        "id": "Dhi5UWWgwB1v",
        "colab_type": "code",
        "colab": {
          "base_uri": "https://localhost:8080/",
          "height": 34
        },
        "outputId": "147fc18e-97e8-463a-dc93-d822415737a5"
      },
      "source": [
        "y_train[:10]"
      ],
      "execution_count": 9,
      "outputs": [
        {
          "output_type": "execute_result",
          "data": {
            "text/plain": [
              "array([6., 5., 3., 4., 7., 8., 6., 7., 0., 9.])"
            ]
          },
          "metadata": {
            "tags": []
          },
          "execution_count": 9
        }
      ]
    },
    {
      "cell_type": "code",
      "metadata": {
        "id": "iwAiiUH1wB1x",
        "colab_type": "code",
        "colab": {
          "base_uri": "https://localhost:8080/",
          "height": 187
        },
        "outputId": "24aad7e9-40c2-423d-c03e-8c5c90df9667"
      },
      "source": [
        "y_train_labels[:10]"
      ],
      "execution_count": 10,
      "outputs": [
        {
          "output_type": "execute_result",
          "data": {
            "text/plain": [
              "array([[0., 0., 0., 0., 0., 0., 1., 0., 0., 0.],\n",
              "       [0., 0., 0., 0., 0., 1., 0., 0., 0., 0.],\n",
              "       [0., 0., 0., 1., 0., 0., 0., 0., 0., 0.],\n",
              "       [0., 0., 0., 0., 1., 0., 0., 0., 0., 0.],\n",
              "       [0., 0., 0., 0., 0., 0., 0., 1., 0., 0.],\n",
              "       [0., 0., 0., 0., 0., 0., 0., 0., 1., 0.],\n",
              "       [0., 0., 0., 0., 0., 0., 1., 0., 0., 0.],\n",
              "       [0., 0., 0., 0., 0., 0., 0., 1., 0., 0.],\n",
              "       [1., 0., 0., 0., 0., 0., 0., 0., 0., 0.],\n",
              "       [0., 0., 0., 0., 0., 0., 0., 0., 0., 1.]], dtype=float32)"
            ]
          },
          "metadata": {
            "tags": []
          },
          "execution_count": 10
        }
      ]
    },
    {
      "cell_type": "markdown",
      "metadata": {
        "id": "8EWONDwkwB1z",
        "colab_type": "text"
      },
      "source": [
        "## Запускаем обучение"
      ]
    },
    {
      "cell_type": "code",
      "metadata": {
        "id": "bmjaJd-iwB1z",
        "colab_type": "code",
        "colab": {
          "base_uri": "https://localhost:8080/",
          "height": 221
        },
        "outputId": "b1e944ae-d2fd-452b-83b7-95f3e0f76e02"
      },
      "source": [
        "model.fit(x_train, \n",
        "          y_train_labels,\n",
        "          batch_size=32, \n",
        "          epochs=5,\n",
        "          validation_split=0.2)"
      ],
      "execution_count": 11,
      "outputs": [
        {
          "output_type": "stream",
          "text": [
            "Train on 26880 samples, validate on 6720 samples\n",
            "Epoch 1/5\n",
            "26880/26880 [==============================] - 19s 708us/sample - loss: 0.9753 - acc: 0.7766 - val_loss: 0.2560 - val_acc: 0.9298\n",
            "Epoch 2/5\n",
            "26880/26880 [==============================] - 21s 776us/sample - loss: 0.1949 - acc: 0.9466 - val_loss: 0.1530 - val_acc: 0.9589\n",
            "Epoch 3/5\n",
            "26880/26880 [==============================] - 19s 697us/sample - loss: 0.1254 - acc: 0.9631 - val_loss: 0.1349 - val_acc: 0.9637\n",
            "Epoch 4/5\n",
            "26880/26880 [==============================] - 18s 687us/sample - loss: 0.0924 - acc: 0.9727 - val_loss: 0.1286 - val_acc: 0.9664\n",
            "Epoch 5/5\n",
            "26880/26880 [==============================] - 19s 691us/sample - loss: 0.0727 - acc: 0.9779 - val_loss: 0.1151 - val_acc: 0.9677\n"
          ],
          "name": "stdout"
        },
        {
          "output_type": "execute_result",
          "data": {
            "text/plain": [
              "<tensorflow.python.keras.callbacks.History at 0x7f86d4fd3fd0>"
            ]
          },
          "metadata": {
            "tags": []
          },
          "execution_count": 11
        }
      ]
    },
    {
      "cell_type": "markdown",
      "metadata": {
        "id": "U6odTEiawB11",
        "colab_type": "text"
      },
      "source": [
        "## Предсказываем класс объекта"
      ]
    },
    {
      "cell_type": "code",
      "metadata": {
        "id": "PYHsdfTlwB12",
        "colab_type": "code",
        "colab": {}
      },
      "source": [
        "pred_val = model.predict_classes(x_val)"
      ],
      "execution_count": 0,
      "outputs": []
    },
    {
      "cell_type": "code",
      "metadata": {
        "id": "tTkQDdSpwB14",
        "colab_type": "code",
        "colab": {
          "base_uri": "https://localhost:8080/",
          "height": 34
        },
        "outputId": "ea7412f0-fc2f-4ca5-e58a-d1b84bee7266"
      },
      "source": [
        "pred_val[:10]"
      ],
      "execution_count": 13,
      "outputs": [
        {
          "output_type": "execute_result",
          "data": {
            "text/plain": [
              "array([8, 1, 9, 9, 8, 6, 2, 2, 7, 1])"
            ]
          },
          "metadata": {
            "tags": []
          },
          "execution_count": 13
        }
      ]
    },
    {
      "cell_type": "markdown",
      "metadata": {
        "id": "aCQ5cOgVwB16",
        "colab_type": "text"
      },
      "source": [
        "## Оцениваем качество решение на валидационной выборке"
      ]
    },
    {
      "cell_type": "code",
      "metadata": {
        "id": "eBG8pSYuwB17",
        "colab_type": "code",
        "colab": {
          "base_uri": "https://localhost:8080/",
          "height": 34
        },
        "outputId": "75fc0d0f-7530-4dad-a75e-e5aad7513f95"
      },
      "source": [
        "from sklearn.metrics import accuracy_score\n",
        "print('Accuracy: %s' % accuracy_score(y_val, pred_val))"
      ],
      "execution_count": 14,
      "outputs": [
        {
          "output_type": "stream",
          "text": [
            "Accuracy: 0.9730952380952381\n"
          ],
          "name": "stdout"
        }
      ]
    },
    {
      "cell_type": "code",
      "metadata": {
        "id": "sq1dmudmwB18",
        "colab_type": "code",
        "colab": {
          "base_uri": "https://localhost:8080/",
          "height": 306
        },
        "outputId": "feffa20f-e35b-4f5c-bf21-48a8ae603632"
      },
      "source": [
        "from sklearn.metrics import classification_report\n",
        "print(classification_report(y_val, pred_val))"
      ],
      "execution_count": 15,
      "outputs": [
        {
          "output_type": "stream",
          "text": [
            "              precision    recall  f1-score   support\n",
            "\n",
            "         0.0       0.99      0.98      0.98       816\n",
            "         1.0       0.99      0.99      0.99       909\n",
            "         2.0       0.96      0.98      0.97       846\n",
            "         3.0       0.97      0.98      0.97       937\n",
            "         4.0       0.99      0.96      0.97       839\n",
            "         5.0       0.99      0.95      0.97       702\n",
            "         6.0       0.99      0.98      0.98       785\n",
            "         7.0       0.98      0.96      0.97       893\n",
            "         8.0       0.98      0.96      0.97       835\n",
            "         9.0       0.91      1.00      0.95       838\n",
            "\n",
            "    accuracy                           0.97      8400\n",
            "   macro avg       0.97      0.97      0.97      8400\n",
            "weighted avg       0.97      0.97      0.97      8400\n",
            "\n"
          ],
          "name": "stdout"
        }
      ]
    },
    {
      "cell_type": "code",
      "metadata": {
        "id": "7Q6SgmCswB1-",
        "colab_type": "code",
        "colab": {
          "base_uri": "https://localhost:8080/",
          "height": 187
        },
        "outputId": "2bd85a05-7107-413c-8f00-cb22c8f4d076"
      },
      "source": [
        "from sklearn.metrics import confusion_matrix\n",
        "print(confusion_matrix(y_val, pred_val))"
      ],
      "execution_count": 16,
      "outputs": [
        {
          "output_type": "stream",
          "text": [
            "[[801   0   2   1   0   1   2   0   0   9]\n",
            " [  0 897   5   1   1   0   0   2   0   3]\n",
            " [  0   4 831   3   3   0   1   1   1   2]\n",
            " [  1   0   3 915   0   1   1   5   4   7]\n",
            " [  1   1   2   0 805   0   4   1   3  22]\n",
            " [  1   1   0  11   2 668   3   3   3  10]\n",
            " [  4   2   1   0   0   3 769   0   4   2]\n",
            " [  1   0  11   6   1   0   0 855   1  18]\n",
            " [  3   0   9   9   3   4   0   1 799   7]\n",
            " [  0   0   0   0   0   1   0   1   2 834]]\n"
          ],
          "name": "stdout"
        }
      ]
    },
    {
      "cell_type": "markdown",
      "metadata": {
        "id": "jfLeLLBHwB2A",
        "colab_type": "text"
      },
      "source": [
        "## Предсказания на тестовыйх данных"
      ]
    },
    {
      "cell_type": "code",
      "metadata": {
        "id": "vrb-rbNBwB2A",
        "colab_type": "code",
        "colab": {}
      },
      "source": [
        "pred_test = model.predict_classes(test_img)"
      ],
      "execution_count": 0,
      "outputs": []
    },
    {
      "cell_type": "markdown",
      "metadata": {
        "id": "u3vRx4FWwB2C",
        "colab_type": "text"
      },
      "source": [
        "## Визуализируем предсказания"
      ]
    },
    {
      "cell_type": "code",
      "metadata": {
        "id": "djwideq6wB2E",
        "colab_type": "code",
        "colab": {
          "base_uri": "https://localhost:8080/",
          "height": 276
        },
        "outputId": "4d8e2142-8d0f-4245-e660-d13fdc80bcf3"
      },
      "source": [
        "fig = plt.figure(figsize=(20, 10))\n",
        "indices = np.random.choice(range(len(test_img)), 5)\n",
        "img_prediction = zip(test_img[indices], pred_test[indices])\n",
        "for i, (img, pred) in enumerate(img_prediction, 1):\n",
        "    subplot = fig.add_subplot(1, 5, i)\n",
        "    plt.imshow(img[...,0], cmap='gray');\n",
        "    subplot.set_title('%d' % pred);"
      ],
      "execution_count": 18,
      "outputs": [
        {
          "output_type": "display_data",
          "data": {
            "image/png": "[encoded data removed]",
            "text/plain": [
              "<Figure size 1440x720 with 5 Axes>"
            ]
          },
          "metadata": {
            "tags": []
          }
        }
      ]
    },
    {
      "cell_type": "markdown",
      "metadata": {
        "id": "l5QRrnkjwB2H",
        "colab_type": "text"
      },
      "source": [
        "## Готовим файл для отправки"
      ]
    },
    {
      "cell_type": "code",
      "metadata": {
        "id": "BYtgmW1jwB2I",
        "colab_type": "code",
        "colab": {}
      },
      "source": [
        "with open('submit.txt', 'w') as dst:\n",
        "    dst.write('ImageId,Label\\n')\n",
        "    for i, p in enumerate(pred_test, 1):\n",
        "        dst.write('%s,%d\\n' % (i, p))"
      ],
      "execution_count": 0,
      "outputs": []
    },
    {
      "cell_type": "code",
      "metadata": {
        "id": "tIrgm4jYwB2K",
        "colab_type": "code",
        "colab": {}
      },
      "source": [
        "# Your submission scored 0.9730952380952381"
      ],
      "execution_count": 0,
      "outputs": []
    }
  ]
}